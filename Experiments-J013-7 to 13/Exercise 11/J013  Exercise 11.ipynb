{
 "cells": [
  {
   "cell_type": "markdown",
   "metadata": {},
   "source": [
    "## Importing The Libraries"
   ]
  },
  {
   "cell_type": "code",
   "execution_count": 1,
   "metadata": {},
   "outputs": [],
   "source": [
    "import os\n",
    "import time\n",
    "import pandas as pd\n",
    "import numpy as np\n",
    "import matplotlib.pyplot as plt\n",
    "import seaborn as sns\n",
    "\n",
    "from sklearn.model_selection import train_test_split\n",
    "from sklearn.preprocessing import LabelEncoder, StandardScaler\n",
    "from sklearn.datasets import fetch_openml\n",
    "\n",
    "from keras import models\n",
    "from keras import layers\n",
    "from keras.utils import to_categorical\n",
    "from keras.callbacks import EarlyStopping\n",
    "from livelossplot import PlotLossesKeras"
   ]
  },
  {
   "cell_type": "markdown",
   "metadata": {},
   "source": [
    "## EDA"
   ]
  },
  {
   "cell_type": "markdown",
   "metadata": {},
   "source": [
    "### Reading the Data"
   ]
  },
  {
   "cell_type": "code",
   "execution_count": 2,
   "metadata": {},
   "outputs": [],
   "source": [
    "openml = fetch_openml(data_id = 40966)\n",
    "x = pd.DataFrame(openml.data)\n",
    "y = pd.DataFrame(openml.target)"
   ]
  },
  {
   "cell_type": "code",
   "execution_count": 3,
   "metadata": {},
   "outputs": [
    {
     "data": {
      "text/plain": [
       "((1080, 77), (1080, 1))"
      ]
     },
     "execution_count": 3,
     "metadata": {},
     "output_type": "execute_result"
    }
   ],
   "source": [
    "x.shape, y.shape"
   ]
  },
  {
   "cell_type": "markdown",
   "metadata": {},
   "source": [
    "### Checking For Null Values"
   ]
  },
  {
   "cell_type": "code",
   "execution_count": 4,
   "metadata": {},
   "outputs": [
    {
     "data": {
      "text/html": [
       "<div>\n",
       "<style scoped>\n",
       "    .dataframe tbody tr th:only-of-type {\n",
       "        vertical-align: middle;\n",
       "    }\n",
       "\n",
       "    .dataframe tbody tr th {\n",
       "        vertical-align: top;\n",
       "    }\n",
       "\n",
       "    .dataframe thead th {\n",
       "        text-align: right;\n",
       "    }\n",
       "</style>\n",
       "<table border=\"1\" class=\"dataframe\">\n",
       "  <thead>\n",
       "    <tr style=\"text-align: right;\">\n",
       "      <th></th>\n",
       "      <th>0</th>\n",
       "      <th>1</th>\n",
       "      <th>2</th>\n",
       "      <th>3</th>\n",
       "      <th>4</th>\n",
       "      <th>5</th>\n",
       "      <th>6</th>\n",
       "      <th>7</th>\n",
       "      <th>8</th>\n",
       "      <th>9</th>\n",
       "      <th>...</th>\n",
       "      <th>67</th>\n",
       "      <th>68</th>\n",
       "      <th>69</th>\n",
       "      <th>70</th>\n",
       "      <th>71</th>\n",
       "      <th>72</th>\n",
       "      <th>73</th>\n",
       "      <th>74</th>\n",
       "      <th>75</th>\n",
       "      <th>76</th>\n",
       "    </tr>\n",
       "  </thead>\n",
       "  <tbody>\n",
       "    <tr>\n",
       "      <th>count</th>\n",
       "      <td>1077.000000</td>\n",
       "      <td>1077.000000</td>\n",
       "      <td>1077.000000</td>\n",
       "      <td>1077.000000</td>\n",
       "      <td>1077.000000</td>\n",
       "      <td>1077.000000</td>\n",
       "      <td>1077.000000</td>\n",
       "      <td>1077.000000</td>\n",
       "      <td>1077.000000</td>\n",
       "      <td>1077.000000</td>\n",
       "      <td>...</td>\n",
       "      <td>1080.000000</td>\n",
       "      <td>867.000000</td>\n",
       "      <td>795.000000</td>\n",
       "      <td>1080.000000</td>\n",
       "      <td>1005.000000</td>\n",
       "      <td>1080.000000</td>\n",
       "      <td>900.000000</td>\n",
       "      <td>870.000000</td>\n",
       "      <td>810.000000</td>\n",
       "      <td>1080.000000</td>\n",
       "    </tr>\n",
       "    <tr>\n",
       "      <th>mean</th>\n",
       "      <td>0.425810</td>\n",
       "      <td>0.617102</td>\n",
       "      <td>0.319088</td>\n",
       "      <td>2.297269</td>\n",
       "      <td>3.843934</td>\n",
       "      <td>0.233168</td>\n",
       "      <td>0.181846</td>\n",
       "      <td>3.537109</td>\n",
       "      <td>0.212574</td>\n",
       "      <td>1.428682</td>\n",
       "      <td>...</td>\n",
       "      <td>0.226676</td>\n",
       "      <td>0.157914</td>\n",
       "      <td>0.134762</td>\n",
       "      <td>0.121521</td>\n",
       "      <td>0.131053</td>\n",
       "      <td>0.446073</td>\n",
       "      <td>0.169609</td>\n",
       "      <td>0.183135</td>\n",
       "      <td>0.205440</td>\n",
       "      <td>1.337784</td>\n",
       "    </tr>\n",
       "    <tr>\n",
       "      <th>std</th>\n",
       "      <td>0.249362</td>\n",
       "      <td>0.251640</td>\n",
       "      <td>0.049383</td>\n",
       "      <td>0.347293</td>\n",
       "      <td>0.933100</td>\n",
       "      <td>0.041634</td>\n",
       "      <td>0.027042</td>\n",
       "      <td>1.295169</td>\n",
       "      <td>0.032587</td>\n",
       "      <td>0.466904</td>\n",
       "      <td>...</td>\n",
       "      <td>0.028989</td>\n",
       "      <td>0.029537</td>\n",
       "      <td>0.027417</td>\n",
       "      <td>0.014276</td>\n",
       "      <td>0.023863</td>\n",
       "      <td>0.066432</td>\n",
       "      <td>0.059402</td>\n",
       "      <td>0.040406</td>\n",
       "      <td>0.055514</td>\n",
       "      <td>0.317126</td>\n",
       "    </tr>\n",
       "    <tr>\n",
       "      <th>min</th>\n",
       "      <td>0.145327</td>\n",
       "      <td>0.245359</td>\n",
       "      <td>0.115181</td>\n",
       "      <td>1.330831</td>\n",
       "      <td>1.737540</td>\n",
       "      <td>0.063236</td>\n",
       "      <td>0.064043</td>\n",
       "      <td>1.343998</td>\n",
       "      <td>0.112812</td>\n",
       "      <td>0.429032</td>\n",
       "      <td>...</td>\n",
       "      <td>0.155869</td>\n",
       "      <td>0.088305</td>\n",
       "      <td>0.080657</td>\n",
       "      <td>0.067254</td>\n",
       "      <td>0.085419</td>\n",
       "      <td>0.258626</td>\n",
       "      <td>0.079691</td>\n",
       "      <td>0.105537</td>\n",
       "      <td>0.101787</td>\n",
       "      <td>0.586479</td>\n",
       "    </tr>\n",
       "    <tr>\n",
       "      <th>25%</th>\n",
       "      <td>0.288121</td>\n",
       "      <td>0.473361</td>\n",
       "      <td>0.287444</td>\n",
       "      <td>2.057411</td>\n",
       "      <td>3.155678</td>\n",
       "      <td>0.205755</td>\n",
       "      <td>0.164595</td>\n",
       "      <td>2.479834</td>\n",
       "      <td>0.190823</td>\n",
       "      <td>1.203665</td>\n",
       "      <td>...</td>\n",
       "      <td>0.206395</td>\n",
       "      <td>0.136424</td>\n",
       "      <td>0.115554</td>\n",
       "      <td>0.110839</td>\n",
       "      <td>0.113506</td>\n",
       "      <td>0.398082</td>\n",
       "      <td>0.125848</td>\n",
       "      <td>0.155121</td>\n",
       "      <td>0.165143</td>\n",
       "      <td>1.081423</td>\n",
       "    </tr>\n",
       "    <tr>\n",
       "      <th>50%</th>\n",
       "      <td>0.366378</td>\n",
       "      <td>0.565782</td>\n",
       "      <td>0.316564</td>\n",
       "      <td>2.296546</td>\n",
       "      <td>3.760855</td>\n",
       "      <td>0.231177</td>\n",
       "      <td>0.182302</td>\n",
       "      <td>3.326520</td>\n",
       "      <td>0.210594</td>\n",
       "      <td>1.355846</td>\n",
       "      <td>...</td>\n",
       "      <td>0.224000</td>\n",
       "      <td>0.152313</td>\n",
       "      <td>0.129468</td>\n",
       "      <td>0.121626</td>\n",
       "      <td>0.126523</td>\n",
       "      <td>0.448459</td>\n",
       "      <td>0.158240</td>\n",
       "      <td>0.174935</td>\n",
       "      <td>0.193994</td>\n",
       "      <td>1.317441</td>\n",
       "    </tr>\n",
       "    <tr>\n",
       "      <th>75%</th>\n",
       "      <td>0.487711</td>\n",
       "      <td>0.698032</td>\n",
       "      <td>0.348197</td>\n",
       "      <td>2.528481</td>\n",
       "      <td>4.440011</td>\n",
       "      <td>0.257261</td>\n",
       "      <td>0.197418</td>\n",
       "      <td>4.481940</td>\n",
       "      <td>0.234595</td>\n",
       "      <td>1.561316</td>\n",
       "      <td>...</td>\n",
       "      <td>0.241655</td>\n",
       "      <td>0.174017</td>\n",
       "      <td>0.148235</td>\n",
       "      <td>0.131955</td>\n",
       "      <td>0.143652</td>\n",
       "      <td>0.490773</td>\n",
       "      <td>0.197876</td>\n",
       "      <td>0.204542</td>\n",
       "      <td>0.235215</td>\n",
       "      <td>1.585824</td>\n",
       "    </tr>\n",
       "    <tr>\n",
       "      <th>max</th>\n",
       "      <td>2.516367</td>\n",
       "      <td>2.602662</td>\n",
       "      <td>0.497160</td>\n",
       "      <td>3.757641</td>\n",
       "      <td>8.482553</td>\n",
       "      <td>0.539050</td>\n",
       "      <td>0.317066</td>\n",
       "      <td>7.464070</td>\n",
       "      <td>0.306247</td>\n",
       "      <td>6.113347</td>\n",
       "      <td>...</td>\n",
       "      <td>0.358289</td>\n",
       "      <td>0.282016</td>\n",
       "      <td>0.261506</td>\n",
       "      <td>0.158748</td>\n",
       "      <td>0.256529</td>\n",
       "      <td>0.759588</td>\n",
       "      <td>0.479763</td>\n",
       "      <td>0.360692</td>\n",
       "      <td>0.413903</td>\n",
       "      <td>2.129791</td>\n",
       "    </tr>\n",
       "  </tbody>\n",
       "</table>\n",
       "<p>8 rows × 77 columns</p>\n",
       "</div>"
      ],
      "text/plain": [
       "                0            1            2            3            4   \\\n",
       "count  1077.000000  1077.000000  1077.000000  1077.000000  1077.000000   \n",
       "mean      0.425810     0.617102     0.319088     2.297269     3.843934   \n",
       "std       0.249362     0.251640     0.049383     0.347293     0.933100   \n",
       "min       0.145327     0.245359     0.115181     1.330831     1.737540   \n",
       "25%       0.288121     0.473361     0.287444     2.057411     3.155678   \n",
       "50%       0.366378     0.565782     0.316564     2.296546     3.760855   \n",
       "75%       0.487711     0.698032     0.348197     2.528481     4.440011   \n",
       "max       2.516367     2.602662     0.497160     3.757641     8.482553   \n",
       "\n",
       "                5            6            7            8            9   ...  \\\n",
       "count  1077.000000  1077.000000  1077.000000  1077.000000  1077.000000  ...   \n",
       "mean      0.233168     0.181846     3.537109     0.212574     1.428682  ...   \n",
       "std       0.041634     0.027042     1.295169     0.032587     0.466904  ...   \n",
       "min       0.063236     0.064043     1.343998     0.112812     0.429032  ...   \n",
       "25%       0.205755     0.164595     2.479834     0.190823     1.203665  ...   \n",
       "50%       0.231177     0.182302     3.326520     0.210594     1.355846  ...   \n",
       "75%       0.257261     0.197418     4.481940     0.234595     1.561316  ...   \n",
       "max       0.539050     0.317066     7.464070     0.306247     6.113347  ...   \n",
       "\n",
       "                67          68          69           70           71  \\\n",
       "count  1080.000000  867.000000  795.000000  1080.000000  1005.000000   \n",
       "mean      0.226676    0.157914    0.134762     0.121521     0.131053   \n",
       "std       0.028989    0.029537    0.027417     0.014276     0.023863   \n",
       "min       0.155869    0.088305    0.080657     0.067254     0.085419   \n",
       "25%       0.206395    0.136424    0.115554     0.110839     0.113506   \n",
       "50%       0.224000    0.152313    0.129468     0.121626     0.126523   \n",
       "75%       0.241655    0.174017    0.148235     0.131955     0.143652   \n",
       "max       0.358289    0.282016    0.261506     0.158748     0.256529   \n",
       "\n",
       "                72          73          74          75           76  \n",
       "count  1080.000000  900.000000  870.000000  810.000000  1080.000000  \n",
       "mean      0.446073    0.169609    0.183135    0.205440     1.337784  \n",
       "std       0.066432    0.059402    0.040406    0.055514     0.317126  \n",
       "min       0.258626    0.079691    0.105537    0.101787     0.586479  \n",
       "25%       0.398082    0.125848    0.155121    0.165143     1.081423  \n",
       "50%       0.448459    0.158240    0.174935    0.193994     1.317441  \n",
       "75%       0.490773    0.197876    0.204542    0.235215     1.585824  \n",
       "max       0.759588    0.479763    0.360692    0.413903     2.129791  \n",
       "\n",
       "[8 rows x 77 columns]"
      ]
     },
     "execution_count": 4,
     "metadata": {},
     "output_type": "execute_result"
    }
   ],
   "source": [
    "x.describe()"
   ]
  },
  {
   "cell_type": "markdown",
   "metadata": {},
   "source": [
    "### Replacing Null Values By Mean"
   ]
  },
  {
   "cell_type": "code",
   "execution_count": 5,
   "metadata": {},
   "outputs": [
    {
     "data": {
      "text/plain": [
       "0     0\n",
       "1     0\n",
       "2     0\n",
       "3     0\n",
       "4     0\n",
       "     ..\n",
       "72    0\n",
       "73    0\n",
       "74    0\n",
       "75    0\n",
       "76    0\n",
       "Length: 77, dtype: int64"
      ]
     },
     "execution_count": 5,
     "metadata": {},
     "output_type": "execute_result"
    }
   ],
   "source": [
    "for i in list(x.columns):\n",
    "    a = x[i].mean(axis = 0)\n",
    "    x[i].fillna(a, inplace = True)\n",
    "x.isnull().sum()"
   ]
  },
  {
   "cell_type": "markdown",
   "metadata": {},
   "source": [
    "### Label Encoding Y Variable"
   ]
  },
  {
   "cell_type": "code",
   "execution_count": 6,
   "metadata": {},
   "outputs": [
    {
     "name": "stderr",
     "output_type": "stream",
     "text": [
      "/Users/nmims/opt/anaconda3/lib/python3.7/site-packages/sklearn/preprocessing/_label.py:251: DataConversionWarning: A column-vector y was passed when a 1d array was expected. Please change the shape of y to (n_samples, ), for example using ravel().\n",
      "  y = column_or_1d(y, warn=True)\n"
     ]
    }
   ],
   "source": [
    "le = LabelEncoder()\n",
    "y = pd.DataFrame(le.fit_transform(y))\n",
    "y = y.astype('category')"
   ]
  },
  {
   "cell_type": "markdown",
   "metadata": {},
   "source": [
    "## Model Building"
   ]
  },
  {
   "cell_type": "markdown",
   "metadata": {},
   "source": [
    "### Splitting Data Into Train & Test"
   ]
  },
  {
   "cell_type": "code",
   "execution_count": 7,
   "metadata": {},
   "outputs": [],
   "source": [
    "y = to_categorical(y)\n",
    "x_train, x_test, y_train, y_test = train_test_split(x, y, test_size = 0.3, shuffle = True)"
   ]
  },
  {
   "cell_type": "markdown",
   "metadata": {},
   "source": [
    "### Building The Model"
   ]
  },
  {
   "cell_type": "code",
   "execution_count": 8,
   "metadata": {},
   "outputs": [],
   "source": [
    "model = models.Sequential()\n",
    "model.add(layers.Dense(256, activation = 'relu', input_shape = (77, )))\n",
    "model.add(layers.Dense(128, activation = 'relu'))\n",
    "model.add(layers.Dense(64))\n",
    "model.add(layers.LeakyReLU(alpha = 0.01))\n",
    "model.add(layers.Dense(8, activation = 'softmax'))\n",
    "\n",
    "model.compile(loss = 'categorical_crossentropy', optimizer = 'adam', metrics = ['accuracy'])"
   ]
  },
  {
   "cell_type": "markdown",
   "metadata": {},
   "source": [
    "### Setting Callbacks and Running It"
   ]
  },
  {
   "cell_type": "code",
   "execution_count": 9,
   "metadata": {
    "scrolled": false
   },
   "outputs": [
    {
     "data": {
      "image/png": "[encoded data removed]",
      "text/plain": [
       "<Figure size 864x576 with 2 Axes>"
      ]
     },
     "metadata": {
      "needs_background": "light"
     },
     "output_type": "display_data"
    },
    {
     "name": "stdout",
     "output_type": "stream",
     "text": [
      "accuracy\n",
      "\ttraining         \t (min:    0.284, max:    1.000, cur:    1.000)\n",
      "\tvalidation       \t (min:    0.432, max:    1.000, cur:    1.000)\n",
      "Loss\n",
      "\ttraining         \t (min:    0.017, max:    1.953, cur:    0.017)\n",
      "\tvalidation       \t (min:    0.036, max:    1.815, cur:    0.036)\n",
      "27/27 [==============================] - 0s 15ms/step - loss: 0.0172 - accuracy: 1.0000 - val_loss: 0.0357 - val_accuracy: 1.0000\n",
      "Epoch 00076: early stopping\n"
     ]
    },
    {
     "data": {
      "text/plain": [
       "<tensorflow.python.keras.callbacks.History at 0x7fe64ed10790>"
      ]
     },
     "execution_count": 9,
     "metadata": {},
     "output_type": "execute_result"
    }
   ],
   "source": [
    "es = EarlyStopping(monitor = 'val_loss', mode = 'min', patience = 5, verbose = 1)\n",
    "cb = [es, PlotLossesKeras()]\n",
    "\n",
    "model.fit(x_train, y_train, epochs = 100, batch_size = 20, validation_split = 0.3, callbacks = cb)"
   ]
  },
  {
   "cell_type": "markdown",
   "metadata": {},
   "source": [
    "### Checking The Test Accuracy"
   ]
  },
  {
   "cell_type": "code",
   "execution_count": 10,
   "metadata": {},
   "outputs": [
    {
     "name": "stdout",
     "output_type": "stream",
     "text": [
      "11/11 [==============================] - 0s 834us/step - loss: 0.0333 - accuracy: 0.9969\n",
      "The Model Accuracy On Test Set is: 99.69135522842407\n"
     ]
    }
   ],
   "source": [
    "_, acc = model.evaluate(x_test, y_test)\n",
    "print('The Model Accuracy On Test Set is:', acc*100)"
   ]
  }
 ],
 "metadata": {
  "kernelspec": {
   "display_name": "Python 3",
   "language": "python",
   "name": "python3"
  },
  "language_info": {
   "codemirror_mode": {
    "name": "ipython",
    "version": 3
   },
   "file_extension": ".py",
   "mimetype": "text/x-python",
   "name": "python",
   "nbconvert_exporter": "python",
   "pygments_lexer": "ipython3",
   "version": "3.7.6"
  },
  "toc": {
   "base_numbering": 1,
   "nav_menu": {},
   "number_sections": true,
   "sideBar": true,
   "skip_h1_title": true,
   "title_cell": "Table of Contents",
   "title_sidebar": "Contents",
   "toc_cell": false,
   "toc_position": {},
   "toc_section_display": true,
   "toc_window_display": false
  }
 },
 "nbformat": 4,
 "nbformat_minor": 4
}
